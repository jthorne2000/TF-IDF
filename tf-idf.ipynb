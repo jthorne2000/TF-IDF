{
 "cells": [
  {
   "cell_type": "code",
   "execution_count": 1,
   "metadata": {},
   "outputs": [
    {
     "name": "stdout",
     "output_type": "stream",
     "text": [
      "Collecting lxml\n",
      "  Downloading lxml-5.4.0-cp312-cp312-manylinux_2_28_x86_64.whl.metadata (3.5 kB)\n",
      "Downloading lxml-5.4.0-cp312-cp312-manylinux_2_28_x86_64.whl (5.0 MB)\n",
      "\u001b[2K   \u001b[90m━━━━━━━━━━━━━━━━━━━━━━━━━━━━━━━━━━━━━━━━\u001b[0m \u001b[32m5.0/5.0 MB\u001b[0m \u001b[31m27.7 MB/s\u001b[0m eta \u001b[36m0:00:00\u001b[0m\n",
      "\u001b[?25hInstalling collected packages: lxml\n",
      "Successfully installed lxml-5.4.0\n",
      "\n",
      "\u001b[1m[\u001b[0m\u001b[34;49mnotice\u001b[0m\u001b[1;39;49m]\u001b[0m\u001b[39;49m A new release of pip is available: \u001b[0m\u001b[31;49m25.0.1\u001b[0m\u001b[39;49m -> \u001b[0m\u001b[32;49m25.1.1\u001b[0m\n",
      "\u001b[1m[\u001b[0m\u001b[34;49mnotice\u001b[0m\u001b[1;39;49m]\u001b[0m\u001b[39;49m To update, run: \u001b[0m\u001b[32;49mpip install --upgrade pip\u001b[0m\n",
      "Note: you may need to restart the kernel to use updated packages.\n"
     ]
    }
   ],
   "source": [
    "%pip install lxml"
   ]
  },
  {
   "cell_type": "code",
   "execution_count": 2,
   "metadata": {},
   "outputs": [],
   "source": [
    "from lxml import etree\n",
    "from pathlib import Path"
   ]
  },
  {
   "cell_type": "code",
   "execution_count": 3,
   "metadata": {},
   "outputs": [],
   "source": [
    "files = list(Path(\"tlg0012\").glob(\"./**/*perseus-eng*.xml\"))"
   ]
  },
  {
   "cell_type": "code",
   "execution_count": 4,
   "metadata": {},
   "outputs": [],
   "source": [
    "TEI_NS = \"http://www.tei-c.org/ns/1.0\"\n",
    "XML_NS = \"http://www.w3.org/XML/1998/namespace\"\n",
    "\n",
    "NAMESPACES = {\n",
    "    \"tei\": TEI_NS,\n",
    "    \"xml\": XML_NS,\n",
    "}"
   ]
  },
  {
   "cell_type": "code",
   "execution_count": 5,
   "metadata": {},
   "outputs": [
    {
     "name": "stdout",
     "output_type": "stream",
     "text": [
      "tlg0012/tlg002/tlg0012.tlg002.perseus-eng3.xml\n",
      "tlg0012/tlg002/tlg0012.tlg002.perseus-eng4.xml\n",
      "tlg0012/tlg003/tlg0012.tlg003.perseus-eng1.xml\n",
      "tlg0012/tlg001/tlg0012.tlg001.perseus-eng3.xml\n",
      "tlg0012/tlg001/tlg0012.tlg001.perseus-eng4.xml\n"
     ]
    }
   ],
   "source": [
    "for file in files:\n",
    "    print(file)\n",
    "    tree = etree.parse(file)\n",
    "    text = tree.xpath(f\"//tei:div[@subtype='card']//text()\", namespaces=NAMESPACES)\n",
    "    \n",
    "    cleaned_text = []\n",
    "    for t in text:\n",
    "        if t.strip() != \"\":\n",
    "            cleaned_text.append(t)\n",
    "\n",
    "    if len(cleaned_text) > 0:\n",
    "        with open(str(file).split(\"/\")[-1].replace(\".xml\", \".txt\"), \"w+\") as f:\n",
    "            f.write('\\n'.join(cleaned_text))\n",
    "    "
   ]
  },
  {
   "cell_type": "code",
   "execution_count": 6,
   "metadata": {},
   "outputs": [],
   "source": [
    "from collections import Counter\n",
    "\n",
    "text_files = list(Path(\".\").glob(\"tlg0012.tlg00*.perseus-eng*.txt\"))\n",
    "\n",
    "counts = {}\n",
    "\n",
    "for t in text_files:\n",
    "    name = str(t)\n",
    "\n",
    "    with open(t) as f:\n",
    "        text = f.read().lower().split()\n",
    "        counts[name] = Counter(text)\n"
   ]
  },
  {
   "cell_type": "code",
   "execution_count": 7,
   "metadata": {},
   "outputs": [
    {
     "data": {
      "text/plain": [
       "4"
      ]
     },
     "execution_count": 7,
     "metadata": {},
     "output_type": "execute_result"
    }
   ],
   "source": [
    "term = 'odysseus'\n",
    "\n",
    "df_ulysses = 0\n",
    "\n",
    "for _, els in counts.items():\n",
    "    if term in els:\n",
    "        df_ulysses += 1\n",
    "\n",
    "df_ulysses"
   ]
  },
  {
   "cell_type": "code",
   "execution_count": 8,
   "metadata": {},
   "outputs": [
    {
     "name": "stdout",
     "output_type": "stream",
     "text": [
      "Collecting nltk\n",
      "  Downloading nltk-3.9.1-py3-none-any.whl.metadata (2.9 kB)\n",
      "Collecting click (from nltk)\n",
      "  Downloading click-8.1.8-py3-none-any.whl.metadata (2.3 kB)\n",
      "Requirement already satisfied: joblib in /home/codespace/.local/lib/python3.12/site-packages (from nltk) (1.4.2)\n",
      "Collecting regex>=2021.8.3 (from nltk)\n",
      "  Downloading regex-2024.11.6-cp312-cp312-manylinux_2_17_x86_64.manylinux2014_x86_64.whl.metadata (40 kB)\n",
      "Collecting tqdm (from nltk)\n",
      "  Downloading tqdm-4.67.1-py3-none-any.whl.metadata (57 kB)\n",
      "Downloading nltk-3.9.1-py3-none-any.whl (1.5 MB)\n",
      "\u001b[2K   \u001b[90m━━━━━━━━━━━━━━━━━━━━━━━━━━━━━━━━━━━━━━━━\u001b[0m \u001b[32m1.5/1.5 MB\u001b[0m \u001b[31m34.6 MB/s\u001b[0m eta \u001b[36m0:00:00\u001b[0m\n",
      "\u001b[?25hDownloading regex-2024.11.6-cp312-cp312-manylinux_2_17_x86_64.manylinux2014_x86_64.whl (796 kB)\n",
      "\u001b[2K   \u001b[90m━━━━━━━━━━━━━━━━━━━━━━━━━━━━━━━━━━━━━━━━\u001b[0m \u001b[32m796.9/796.9 kB\u001b[0m \u001b[31m34.6 MB/s\u001b[0m eta \u001b[36m0:00:00\u001b[0m\n",
      "\u001b[?25hDownloading click-8.1.8-py3-none-any.whl (98 kB)\n",
      "Downloading tqdm-4.67.1-py3-none-any.whl (78 kB)\n",
      "Installing collected packages: tqdm, regex, click, nltk\n",
      "Successfully installed click-8.1.8 nltk-3.9.1 regex-2024.11.6 tqdm-4.67.1\n",
      "\n",
      "\u001b[1m[\u001b[0m\u001b[34;49mnotice\u001b[0m\u001b[1;39;49m]\u001b[0m\u001b[39;49m A new release of pip is available: \u001b[0m\u001b[31;49m25.0.1\u001b[0m\u001b[39;49m -> \u001b[0m\u001b[32;49m25.1.1\u001b[0m\n",
      "\u001b[1m[\u001b[0m\u001b[34;49mnotice\u001b[0m\u001b[1;39;49m]\u001b[0m\u001b[39;49m To update, run: \u001b[0m\u001b[32;49mpip install --upgrade pip\u001b[0m\n",
      "Note: you may need to restart the kernel to use updated packages.\n"
     ]
    }
   ],
   "source": [
    "%pip install nltk"
   ]
  },
  {
   "cell_type": "code",
   "execution_count": 9,
   "metadata": {},
   "outputs": [
    {
     "name": "stderr",
     "output_type": "stream",
     "text": [
      "[nltk_data] Downloading package punkt to /home/codespace/nltk_data...\n",
      "[nltk_data]   Unzipping tokenizers/punkt.zip.\n",
      "[nltk_data] Downloading package punkt_tab to\n",
      "[nltk_data]     /home/codespace/nltk_data...\n",
      "[nltk_data]   Unzipping tokenizers/punkt_tab.zip.\n"
     ]
    },
    {
     "data": {
      "text/plain": [
       "True"
      ]
     },
     "execution_count": 9,
     "metadata": {},
     "output_type": "execute_result"
    }
   ],
   "source": [
    "import nltk\n",
    "\n",
    "nltk.download(\"punkt\")\n",
    "nltk.download(\"punkt_tab\")"
   ]
  },
  {
   "cell_type": "code",
   "execution_count": 10,
   "metadata": {},
   "outputs": [
    {
     "name": "stdout",
     "output_type": "stream",
     "text": [
      "There are 175611 tokens in tlg0012.tlg001.perseus-eng4.txt.\n",
      "There are 152631 tokens in tlg0012.tlg002.perseus-eng3.txt.\n",
      "There are 135463 tokens in tlg0012.tlg002.perseus-eng4.txt.\n",
      "There are 200630 tokens in tlg0012.tlg001.perseus-eng3.txt.\n"
     ]
    }
   ],
   "source": [
    "from nltk.tokenize import word_tokenize\n",
    "\n",
    "tokenized_texts = {}\n",
    "\n",
    "text_files = Path(\".\").glob(\"tlg0012.tlg00*.perseus-eng[1-4].txt\")\n",
    "\n",
    "for file in text_files:\n",
    "    name = str(file)\n",
    "\n",
    "    with open(file) as f:\n",
    "        text = f.read().lower()\n",
    "        tokens = word_tokenize(text)\n",
    "\n",
    "        print(f\"There are {len(tokens)} tokens in {name}.\")\n",
    "\n",
    "        tokenized_texts[name] = tokens"
   ]
  },
  {
   "cell_type": "code",
   "execution_count": 11,
   "metadata": {},
   "outputs": [],
   "source": [
    "from collections import Counter\n",
    "\n",
    "for filename, tokens in tokenized_texts.items():\n",
    "    counts = Counter(tokens)\n",
    "\n",
    "    tokenized_texts[filename] = {\"tokens\": tokens, \"counts\": counts}"
   ]
  },
  {
   "cell_type": "code",
   "execution_count": 12,
   "metadata": {},
   "outputs": [
    {
     "data": {
      "text/plain": [
       "128"
      ]
     },
     "execution_count": 12,
     "metadata": {},
     "output_type": "execute_result"
    }
   ],
   "source": [
    "tokenized_texts[\"tlg0012.tlg001.perseus-eng3.txt\"][\"counts\"][\"odysseus\"]"
   ]
  },
  {
   "cell_type": "code",
   "execution_count": 13,
   "metadata": {},
   "outputs": [
    {
     "name": "stdout",
     "output_type": "stream",
     "text": [
      "0.0\n"
     ]
    }
   ],
   "source": [
    "df_achilles = 0\n",
    "df_odysseus = 0\n",
    "\n",
    "for filename, values in tokenized_texts.items():\n",
    "    if \"odysseus\" in values['counts']:\n",
    "        df_odysseus += 1\n",
    "    \n",
    "    if \"achilles\" in values[\"counts\"]:\n",
    "        df_achilles += 1\n",
    "\n",
    "from math import log10\n",
    "\n",
    "n_docs = len(tokenized_texts.keys())\n",
    "\n",
    "idf_achilles = log10(n_docs / df_achilles)\n",
    "idf_odysseus = log10(n_docs / df_odysseus)\n",
    "\n",
    "print(idf_achilles)"
   ]
  },
  {
   "cell_type": "code",
   "execution_count": 14,
   "metadata": {},
   "outputs": [
    {
     "name": "stdout",
     "output_type": "stream",
     "text": [
      "In tlg0012.tlg001.perseus-eng4.txt:\n",
      "TF of achilles: 0.002403038534032606\n",
      "TF of odysseus: 0.0007061061095261686\n",
      "TF-IDF of achilles: 0.0\n",
      "TF-IDF of odysseus: 0.0\n",
      "\n",
      "In tlg0012.tlg002.perseus-eng3.txt:\n",
      "TF of achilles: 0.0001048279838302835\n",
      "TF of odysseus: 0.0041603606082643765\n",
      "TF-IDF of achilles: 0.0\n",
      "TF-IDF of odysseus: 0.0\n",
      "\n",
      "In tlg0012.tlg002.perseus-eng4.txt:\n",
      "TF of achilles: 0.0001254955227626732\n",
      "TF of odysseus: 0.0042816119530794386\n",
      "TF-IDF of achilles: 0.0\n",
      "TF-IDF of odysseus: 0.0\n",
      "\n",
      "In tlg0012.tlg001.perseus-eng3.txt:\n",
      "TF of achilles: 0.002043562777251657\n",
      "TF of odysseus: 0.000637990330459054\n",
      "TF-IDF of achilles: 0.0\n",
      "TF-IDF of odysseus: 0.0\n",
      "\n"
     ]
    }
   ],
   "source": [
    "for filename, values in tokenized_texts.items():\n",
    "    total_terms = len(values['tokens'])\n",
    "\n",
    "    tf_achilles = values['counts']['achilles'] / total_terms\n",
    "    tf_odysseus = values['counts']['odysseus'] / total_terms\n",
    "\n",
    "    tf_idf_achilles = tf_achilles * idf_achilles\n",
    "    tf_idf_odysseus = tf_odysseus * idf_odysseus\n",
    "\n",
    "    print(f\"\"\"In {filename}:\n",
    "TF of achilles: {tf_achilles}\n",
    "TF of odysseus: {tf_odysseus}\n",
    "TF-IDF of achilles: {tf_idf_achilles}\n",
    "TF-IDF of odysseus: {tf_idf_odysseus}\n",
    "\"\"\")"
   ]
  }
 ],
 "metadata": {
  "kernelspec": {
   "display_name": "Python 3",
   "language": "python",
   "name": "python3"
  },
  "language_info": {
   "codemirror_mode": {
    "name": "ipython",
    "version": 3
   },
   "file_extension": ".py",
   "mimetype": "text/x-python",
   "name": "python",
   "nbconvert_exporter": "python",
   "pygments_lexer": "ipython3",
   "version": "3.12.1"
  }
 },
 "nbformat": 4,
 "nbformat_minor": 2
}
